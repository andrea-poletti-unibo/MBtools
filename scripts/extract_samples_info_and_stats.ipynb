{
 "cells": [
  {
   "cell_type": "code",
   "execution_count": 66,
   "id": "6d3b7b7f-6cb3-40d0-bc0b-da6303c7596a",
   "metadata": {},
   "outputs": [],
   "source": [
    "#import mosaic libraries\n",
    "import missionbio.mosaic.io as mio\n",
    "import pandas as pd\n",
    "import re\n",
    "import glob"
   ]
  },
  {
   "cell_type": "code",
   "execution_count": 4,
   "id": "3b2105b6",
   "metadata": {},
   "outputs": [
    {
     "data": {
      "text/plain": [
       "['C:/Users/andre/Alma Mater Studiorum Università di Bologna/PROJECT Single-Cell - Documenti/DFCI_Ghobrial_RUN\\\\P1_scDNA_KMM1_reference_w_translocations.dna.h5',\n",
       " 'C:/Users/andre/Alma Mater Studiorum Università di Bologna/PROJECT Single-Cell - Documenti/DFCI_Ghobrial_RUN\\\\P1_scDNA_KMS11_reference_w_translocations.dna.h5',\n",
       " 'C:/Users/andre/Alma Mater Studiorum Università di Bologna/PROJECT Single-Cell - Documenti/DFCI_Ghobrial_RUN\\\\P1_scDNA_Mix_reference_w_translocations.dna.h5',\n",
       " 'C:/Users/andre/Alma Mater Studiorum Università di Bologna/PROJECT Single-Cell - Documenti/DFCI_Ghobrial_RUN\\\\P1_scDNA_MM1S_reference_w_translocations.dna.h5',\n",
       " 'C:/Users/andre/Alma Mater Studiorum Università di Bologna/PROJECT Single-Cell - Documenti/DFCI_Ghobrial_RUN\\\\P1_scDNA_OPM2_reference_w_translocations.dna.h5',\n",
       " 'C:/Users/andre/Alma Mater Studiorum Università di Bologna/PROJECT Single-Cell - Documenti/DFCI_Ghobrial_RUN\\\\P1_scDNA_RPMI8226_reference_w_translocations.dna.h5']"
      ]
     },
     "execution_count": 4,
     "metadata": {},
     "output_type": "execute_result"
    }
   ],
   "source": [
    "\n",
    "H5_FILES=glob.glob(r'C:/Users/andre/Alma Mater Studiorum Università di Bologna/PROJECT Single-Cell - Documenti/DFCI_Ghobrial_RUN/*.h5')\n",
    "H5_FILES"
   ]
  },
  {
   "cell_type": "code",
   "execution_count": 55,
   "id": "d1d56195",
   "metadata": {},
   "outputs": [
    {
     "data": {
      "text/plain": [
       "['scDNA_KMM1_reference',\n",
       " 'scDNA_KMS11_reference',\n",
       " 'scDNA_Mix_reference',\n",
       " 'scDNA_MM1S_reference',\n",
       " 'scDNA_OPM2_reference',\n",
       " 'scDNA_RPMI8226_reference']"
      ]
     },
     "execution_count": 55,
     "metadata": {},
     "output_type": "execute_result"
    }
   ],
   "source": [
    "SAMPLE_NAMES= [re.search('scDNA_.*_reference', v).group(0) for v in H5_FILES]\n",
    "SAMPLE_NAMES\n"
   ]
  },
  {
   "cell_type": "code",
   "execution_count": 56,
   "id": "c2e00905",
   "metadata": {},
   "outputs": [
    {
     "data": {
      "text/plain": [
       "{'scDNA_KMM1_reference': 'C:/Users/andre/Alma Mater Studiorum Università di Bologna/PROJECT Single-Cell - Documenti/DFCI_Ghobrial_RUN\\\\P1_scDNA_KMM1_reference_w_translocations.dna.h5',\n",
       " 'scDNA_KMS11_reference': 'C:/Users/andre/Alma Mater Studiorum Università di Bologna/PROJECT Single-Cell - Documenti/DFCI_Ghobrial_RUN\\\\P1_scDNA_KMS11_reference_w_translocations.dna.h5',\n",
       " 'scDNA_Mix_reference': 'C:/Users/andre/Alma Mater Studiorum Università di Bologna/PROJECT Single-Cell - Documenti/DFCI_Ghobrial_RUN\\\\P1_scDNA_Mix_reference_w_translocations.dna.h5',\n",
       " 'scDNA_MM1S_reference': 'C:/Users/andre/Alma Mater Studiorum Università di Bologna/PROJECT Single-Cell - Documenti/DFCI_Ghobrial_RUN\\\\P1_scDNA_MM1S_reference_w_translocations.dna.h5',\n",
       " 'scDNA_OPM2_reference': 'C:/Users/andre/Alma Mater Studiorum Università di Bologna/PROJECT Single-Cell - Documenti/DFCI_Ghobrial_RUN\\\\P1_scDNA_OPM2_reference_w_translocations.dna.h5',\n",
       " 'scDNA_RPMI8226_reference': 'C:/Users/andre/Alma Mater Studiorum Università di Bologna/PROJECT Single-Cell - Documenti/DFCI_Ghobrial_RUN\\\\P1_scDNA_RPMI8226_reference_w_translocations.dna.h5'}"
      ]
     },
     "execution_count": 56,
     "metadata": {},
     "output_type": "execute_result"
    }
   ],
   "source": [
    "sample_dict=dict(zip(SAMPLE_NAMES, H5_FILES))\n",
    "sample_dict"
   ]
  },
  {
   "cell_type": "code",
   "execution_count": 57,
   "id": "aeaced04",
   "metadata": {},
   "outputs": [
    {
     "data": {
      "text/plain": [
       "dict_keys(['scDNA_KMM1_reference', 'scDNA_KMS11_reference', 'scDNA_Mix_reference', 'scDNA_MM1S_reference', 'scDNA_OPM2_reference', 'scDNA_RPMI8226_reference'])"
      ]
     },
     "execution_count": 57,
     "metadata": {},
     "output_type": "execute_result"
    }
   ],
   "source": [
    "sample_dict.keys()"
   ]
  },
  {
   "cell_type": "code",
   "execution_count": 58,
   "id": "c77cf185",
   "metadata": {
    "scrolled": true
   },
   "outputs": [
    {
     "data": {
      "text/plain": [
       "'C:/Users/andre/Alma Mater Studiorum Università di Bologna/PROJECT Single-Cell - Documenti/DFCI_Ghobrial_RUN\\\\P1_scDNA_KMM1_reference_w_translocations.dna.h5'"
      ]
     },
     "execution_count": 58,
     "metadata": {},
     "output_type": "execute_result"
    }
   ],
   "source": [
    "sample_dict[\"scDNA_KMM1_reference\"]"
   ]
  },
  {
   "cell_type": "code",
   "execution_count": 59,
   "id": "68338095",
   "metadata": {},
   "outputs": [],
   "source": [
    "def without_keys(d, keys):\n",
    "    return {k: d[k] for k in d.keys() - keys}\n",
    "\n",
    "nokey=['sample_name', 'palette']"
   ]
  },
  {
   "cell_type": "code",
   "execution_count": 61,
   "id": "46f9a53a",
   "metadata": {},
   "outputs": [
    {
     "data": {
      "text/plain": [
       "'scDNA_KMM1_reference'"
      ]
     },
     "execution_count": 61,
     "metadata": {},
     "output_type": "execute_result"
    }
   ],
   "source": [
    "string=sample_dict[\"scDNA_KMM1_reference\"]\n",
    "\n",
    "sample_name=re.search(\"scDNA_.*_reference\", string).group(0)\n",
    "sample_name"
   ]
  },
  {
   "cell_type": "code",
   "execution_count": 62,
   "id": "599e2aaa",
   "metadata": {},
   "outputs": [
    {
     "name": "stdout",
     "output_type": "stream",
     "text": [
      "Loading, C:/Users/andre/Alma Mater Studiorum Università di Bologna/PROJECT Single-Cell - Documenti/DFCI_Ghobrial_RUN\\P1_scDNA_KMM1_reference_w_translocations.dna.h5\n",
      "Loaded in 9.6s.\n",
      "Loading, C:/Users/andre/Alma Mater Studiorum Università di Bologna/PROJECT Single-Cell - Documenti/DFCI_Ghobrial_RUN\\P1_scDNA_KMS11_reference_w_translocations.dna.h5\n",
      "Loaded in 14.3s.\n",
      "Loading, C:/Users/andre/Alma Mater Studiorum Università di Bologna/PROJECT Single-Cell - Documenti/DFCI_Ghobrial_RUN\\P1_scDNA_Mix_reference_w_translocations.dna.h5\n",
      "Loaded in 22.5s.\n",
      "Loading, C:/Users/andre/Alma Mater Studiorum Università di Bologna/PROJECT Single-Cell - Documenti/DFCI_Ghobrial_RUN\\P1_scDNA_MM1S_reference_w_translocations.dna.h5\n",
      "Loaded in 10.8s.\n",
      "Loading, C:/Users/andre/Alma Mater Studiorum Università di Bologna/PROJECT Single-Cell - Documenti/DFCI_Ghobrial_RUN\\P1_scDNA_OPM2_reference_w_translocations.dna.h5\n",
      "Loaded in 9.3s.\n",
      "Loading, C:/Users/andre/Alma Mater Studiorum Università di Bologna/PROJECT Single-Cell - Documenti/DFCI_Ghobrial_RUN\\P1_scDNA_RPMI8226_reference_w_translocations.dna.h5\n",
      "Loaded in 13.5s.\n"
     ]
    }
   ],
   "source": [
    "resdf=pd.DataFrame()\n",
    "\n",
    "for i in sample_dict.keys():\n",
    "    \n",
    "    sample_name=re.search(\"scDNA_.*_reference\", sample_dict[i]).group(0)\n",
    "    path=sample_dict[i]\n",
    "    \n",
    "    sample = mio.load(path, raw=False, apply_filter=True) \n",
    "    \n",
    "    dict_info=without_keys(sample.dna.metadata, nokey)\n",
    "   \n",
    "    df=pd.DataFrame.from_dict(dict_info, orient='index')\n",
    "    \n",
    "    df_ren = df.rename(columns={0: 'num'})\n",
    "    \n",
    "    df2 = pd.DataFrame({'num': [sample_name]})\n",
    "    df2.index = ['sample']\n",
    "    \n",
    "    df3=df2.append(df_ren)\n",
    "    df3.index.name = 'var'\n",
    "    df3.reset_index(inplace=True)\n",
    "    \n",
    "    resdf= pd.concat([resdf, df3[\"num\"]], axis=1)\n"
   ]
  },
  {
   "cell_type": "code",
   "execution_count": 63,
   "id": "f49779b2",
   "metadata": {},
   "outputs": [],
   "source": [
    "resdf=pd.concat([df3[\"var\"], resdf], axis=1)"
   ]
  },
  {
   "cell_type": "code",
   "execution_count": 64,
   "id": "3324062a",
   "metadata": {},
   "outputs": [
    {
     "data": {
      "text/html": [
       "<div>\n",
       "<style scoped>\n",
       "    .dataframe tbody tr th:only-of-type {\n",
       "        vertical-align: middle;\n",
       "    }\n",
       "\n",
       "    .dataframe tbody tr th {\n",
       "        vertical-align: top;\n",
       "    }\n",
       "\n",
       "    .dataframe thead th {\n",
       "        text-align: right;\n",
       "    }\n",
       "</style>\n",
       "<table border=\"1\" class=\"dataframe\">\n",
       "  <thead>\n",
       "    <tr style=\"text-align: right;\">\n",
       "      <th></th>\n",
       "      <th>0</th>\n",
       "      <th>1</th>\n",
       "      <th>2</th>\n",
       "      <th>3</th>\n",
       "      <th>4</th>\n",
       "      <th>5</th>\n",
       "      <th>6</th>\n",
       "      <th>7</th>\n",
       "      <th>8</th>\n",
       "      <th>9</th>\n",
       "      <th>...</th>\n",
       "      <th>23</th>\n",
       "      <th>24</th>\n",
       "      <th>25</th>\n",
       "      <th>26</th>\n",
       "      <th>27</th>\n",
       "      <th>28</th>\n",
       "      <th>29</th>\n",
       "      <th>30</th>\n",
       "      <th>31</th>\n",
       "      <th>32</th>\n",
       "    </tr>\n",
       "  </thead>\n",
       "  <tbody>\n",
       "    <tr>\n",
       "      <th>var</th>\n",
       "      <td>sample</td>\n",
       "      <td>avg_panel_uniformity</td>\n",
       "      <td>n_amplicons</td>\n",
       "      <td>n_bases_r1_q30</td>\n",
       "      <td>gq_cutoff</td>\n",
       "      <td>n_cells</td>\n",
       "      <td>n_read_pairs_valid_cell_barcodes</td>\n",
       "      <td>n_reads_mapped</td>\n",
       "      <td>n_bases_r2</td>\n",
       "      <td>missing_variants_cutoff</td>\n",
       "      <td>...</td>\n",
       "      <td>n_read_pairs_trimmed</td>\n",
       "      <td>dp_cutoff</td>\n",
       "      <td>n_bases_r1</td>\n",
       "      <td>avg_mapping_error_rate</td>\n",
       "      <td>n_read_pairs</td>\n",
       "      <td>panel_name</td>\n",
       "      <td>n_bases_r2_q30</td>\n",
       "      <td>chemistry_version</td>\n",
       "      <td>n_cell_barcode_bases_q30</td>\n",
       "      <td>n_variants_per_cell</td>\n",
       "    </tr>\n",
       "    <tr>\n",
       "      <th>num</th>\n",
       "      <td>scDNA_KMM1_reference</td>\n",
       "      <td>0.763158</td>\n",
       "      <td>532</td>\n",
       "      <td>60398057362</td>\n",
       "      <td>30</td>\n",
       "      <td>1779</td>\n",
       "      <td>406737915</td>\n",
       "      <td>713980286</td>\n",
       "      <td>63223768318</td>\n",
       "      <td>50</td>\n",
       "      <td>...</td>\n",
       "      <td>415301841</td>\n",
       "      <td>10</td>\n",
       "      <td>63264165259</td>\n",
       "      <td>0.008715</td>\n",
       "      <td>437636875</td>\n",
       "      <td>Tapestri-Designer-results-3074</td>\n",
       "      <td>58733103484</td>\n",
       "      <td>V2</td>\n",
       "      <td>21092553556</td>\n",
       "      <td>767</td>\n",
       "    </tr>\n",
       "    <tr>\n",
       "      <th>num</th>\n",
       "      <td>scDNA_KMS11_reference</td>\n",
       "      <td>0.81391</td>\n",
       "      <td>532</td>\n",
       "      <td>72184893121</td>\n",
       "      <td>30</td>\n",
       "      <td>3184</td>\n",
       "      <td>496517798</td>\n",
       "      <td>849872815</td>\n",
       "      <td>77855372745</td>\n",
       "      <td>50</td>\n",
       "      <td>...</td>\n",
       "      <td>506069206</td>\n",
       "      <td>10</td>\n",
       "      <td>77952248125</td>\n",
       "      <td>0.007965</td>\n",
       "      <td>560257393</td>\n",
       "      <td>Tapestri-Designer-results-3074</td>\n",
       "      <td>72792708355</td>\n",
       "      <td>V2</td>\n",
       "      <td>25146411707</td>\n",
       "      <td>708</td>\n",
       "    </tr>\n",
       "    <tr>\n",
       "      <th>num</th>\n",
       "      <td>scDNA_Mix_reference</td>\n",
       "      <td>0.793233</td>\n",
       "      <td>532</td>\n",
       "      <td>61963624204</td>\n",
       "      <td>30</td>\n",
       "      <td>2018</td>\n",
       "      <td>418990768</td>\n",
       "      <td>751394742</td>\n",
       "      <td>64724607754</td>\n",
       "      <td>50</td>\n",
       "      <td>...</td>\n",
       "      <td>426239389</td>\n",
       "      <td>10</td>\n",
       "      <td>64749468758</td>\n",
       "      <td>0.008188</td>\n",
       "      <td>441731731</td>\n",
       "      <td>Tapestri-Designer-results-3074</td>\n",
       "      <td>60661052328</td>\n",
       "      <td>V2</td>\n",
       "      <td>21700813651</td>\n",
       "      <td>732</td>\n",
       "    </tr>\n",
       "    <tr>\n",
       "      <th>num</th>\n",
       "      <td>scDNA_MM1S_reference</td>\n",
       "      <td>0.755639</td>\n",
       "      <td>532</td>\n",
       "      <td>49489951426</td>\n",
       "      <td>30</td>\n",
       "      <td>3257</td>\n",
       "      <td>333236407</td>\n",
       "      <td>560666762</td>\n",
       "      <td>52423611873</td>\n",
       "      <td>50</td>\n",
       "      <td>...</td>\n",
       "      <td>342412561</td>\n",
       "      <td>10</td>\n",
       "      <td>52498587713</td>\n",
       "      <td>0.007785</td>\n",
       "      <td>379030824</td>\n",
       "      <td>Tapestri-Designer-results-3074</td>\n",
       "      <td>49038780703</td>\n",
       "      <td>V2</td>\n",
       "      <td>17166162462</td>\n",
       "      <td>699</td>\n",
       "    </tr>\n",
       "    <tr>\n",
       "      <th>num</th>\n",
       "      <td>scDNA_OPM2_reference</td>\n",
       "      <td>0.793233</td>\n",
       "      <td>532</td>\n",
       "      <td>46747838644</td>\n",
       "      <td>30</td>\n",
       "      <td>2335</td>\n",
       "      <td>314121012</td>\n",
       "      <td>564147839</td>\n",
       "      <td>48839820006</td>\n",
       "      <td>50</td>\n",
       "      <td>...</td>\n",
       "      <td>321392755</td>\n",
       "      <td>10</td>\n",
       "      <td>48867955876</td>\n",
       "      <td>0.007059</td>\n",
       "      <td>337585428</td>\n",
       "      <td>Tapestri-Designer-results-3074</td>\n",
       "      <td>45939585525</td>\n",
       "      <td>V2</td>\n",
       "      <td>16289889155</td>\n",
       "      <td>720</td>\n",
       "    </tr>\n",
       "    <tr>\n",
       "      <th>num</th>\n",
       "      <td>scDNA_RPMI8226_reference</td>\n",
       "      <td>0.789474</td>\n",
       "      <td>532</td>\n",
       "      <td>60354681774</td>\n",
       "      <td>30</td>\n",
       "      <td>1916</td>\n",
       "      <td>407552282</td>\n",
       "      <td>720185409</td>\n",
       "      <td>63056098796</td>\n",
       "      <td>50</td>\n",
       "      <td>...</td>\n",
       "      <td>414605234</td>\n",
       "      <td>10</td>\n",
       "      <td>63094374847</td>\n",
       "      <td>0.008064</td>\n",
       "      <td>438484787</td>\n",
       "      <td>Tapestri-Designer-results-3074</td>\n",
       "      <td>59330347946</td>\n",
       "      <td>V2</td>\n",
       "      <td>21098292640</td>\n",
       "      <td>694</td>\n",
       "    </tr>\n",
       "  </tbody>\n",
       "</table>\n",
       "<p>7 rows × 33 columns</p>\n",
       "</div>"
      ],
      "text/plain": [
       "                           0                     1            2   \\\n",
       "var                    sample  avg_panel_uniformity  n_amplicons   \n",
       "num      scDNA_KMM1_reference              0.763158          532   \n",
       "num     scDNA_KMS11_reference               0.81391          532   \n",
       "num       scDNA_Mix_reference              0.793233          532   \n",
       "num      scDNA_MM1S_reference              0.755639          532   \n",
       "num      scDNA_OPM2_reference              0.793233          532   \n",
       "num  scDNA_RPMI8226_reference              0.789474          532   \n",
       "\n",
       "                 3          4        5                                 6   \\\n",
       "var  n_bases_r1_q30  gq_cutoff  n_cells  n_read_pairs_valid_cell_barcodes   \n",
       "num     60398057362         30     1779                         406737915   \n",
       "num     72184893121         30     3184                         496517798   \n",
       "num     61963624204         30     2018                         418990768   \n",
       "num     49489951426         30     3257                         333236407   \n",
       "num     46747838644         30     2335                         314121012   \n",
       "num     60354681774         30     1916                         407552282   \n",
       "\n",
       "                 7            8                        9   ...  \\\n",
       "var  n_reads_mapped   n_bases_r2  missing_variants_cutoff  ...   \n",
       "num       713980286  63223768318                       50  ...   \n",
       "num       849872815  77855372745                       50  ...   \n",
       "num       751394742  64724607754                       50  ...   \n",
       "num       560666762  52423611873                       50  ...   \n",
       "num       564147839  48839820006                       50  ...   \n",
       "num       720185409  63056098796                       50  ...   \n",
       "\n",
       "                       23         24           25                      26  \\\n",
       "var  n_read_pairs_trimmed  dp_cutoff   n_bases_r1  avg_mapping_error_rate   \n",
       "num             415301841         10  63264165259                0.008715   \n",
       "num             506069206         10  77952248125                0.007965   \n",
       "num             426239389         10  64749468758                0.008188   \n",
       "num             342412561         10  52498587713                0.007785   \n",
       "num             321392755         10  48867955876                0.007059   \n",
       "num             414605234         10  63094374847                0.008064   \n",
       "\n",
       "               27                              28              29  \\\n",
       "var  n_read_pairs                      panel_name  n_bases_r2_q30   \n",
       "num     437636875  Tapestri-Designer-results-3074     58733103484   \n",
       "num     560257393  Tapestri-Designer-results-3074     72792708355   \n",
       "num     441731731  Tapestri-Designer-results-3074     60661052328   \n",
       "num     379030824  Tapestri-Designer-results-3074     49038780703   \n",
       "num     337585428  Tapestri-Designer-results-3074     45939585525   \n",
       "num     438484787  Tapestri-Designer-results-3074     59330347946   \n",
       "\n",
       "                    30                        31                   32  \n",
       "var  chemistry_version  n_cell_barcode_bases_q30  n_variants_per_cell  \n",
       "num                 V2               21092553556                  767  \n",
       "num                 V2               25146411707                  708  \n",
       "num                 V2               21700813651                  732  \n",
       "num                 V2               17166162462                  699  \n",
       "num                 V2               16289889155                  720  \n",
       "num                 V2               21098292640                  694  \n",
       "\n",
       "[7 rows x 33 columns]"
      ]
     },
     "execution_count": 64,
     "metadata": {},
     "output_type": "execute_result"
    }
   ],
   "source": [
    "exportdf=resdf.T\n",
    "exportdf"
   ]
  },
  {
   "cell_type": "code",
   "execution_count": 70,
   "id": "f8275a13",
   "metadata": {},
   "outputs": [
    {
     "ename": "PermissionError",
     "evalue": "[Errno 13] Permission denied: 'C:/Users/andre/Alma Mater Studiorum Università di Bologna/PROJECT Single-Cell - Documenti/DFCI_Ghobrial_RUN/h5_files_stats.tsv'",
     "output_type": "error",
     "traceback": [
      "\u001b[1;31m---------------------------------------------------------------------------\u001b[0m",
      "\u001b[1;31mPermissionError\u001b[0m                           Traceback (most recent call last)",
      "\u001b[1;32m~\\AppData\\Local\\Temp/ipykernel_6532/374435819.py\u001b[0m in \u001b[0;36m<module>\u001b[1;34m\u001b[0m\n\u001b[0;32m      1\u001b[0m exportdf.to_csv(\"C:/Users/andre/Alma Mater Studiorum Università di Bologna/PROJECT Single-Cell - Documenti/DFCI_Ghobrial_RUN/h5_files_stats.tsv\", \n\u001b[1;32m----> 2\u001b[1;33m                 sep=\"\\t\", header= True, index= False  )\n\u001b[0m\u001b[0;32m      3\u001b[0m \u001b[1;33m\u001b[0m\u001b[0m\n\u001b[0;32m      4\u001b[0m \u001b[1;33m\u001b[0m\u001b[0m\n\u001b[0;32m      5\u001b[0m \u001b[1;31m# exportdf.to_excel(\"C:/Users/andre/Alma Mater Studiorum Università di Bologna/PROJECT Single-Cell - Documenti/DFCI_Ghobrial_RUN/h5_files_stats.xlsx\",\u001b[0m\u001b[1;33m\u001b[0m\u001b[1;33m\u001b[0m\u001b[0m\n",
      "\u001b[1;32m~\\anaconda3\\envs\\mosaic_missionbio_20211123\\lib\\site-packages\\pandas\\core\\generic.py\u001b[0m in \u001b[0;36mto_csv\u001b[1;34m(self, path_or_buf, sep, na_rep, float_format, columns, header, index, index_label, mode, encoding, compression, quoting, quotechar, line_terminator, chunksize, date_format, doublequote, escapechar, decimal, errors, storage_options)\u001b[0m\n\u001b[0;32m   3480\u001b[0m             \u001b[0mdoublequote\u001b[0m\u001b[1;33m=\u001b[0m\u001b[0mdoublequote\u001b[0m\u001b[1;33m,\u001b[0m\u001b[1;33m\u001b[0m\u001b[0m\n\u001b[0;32m   3481\u001b[0m             \u001b[0mescapechar\u001b[0m\u001b[1;33m=\u001b[0m\u001b[0mescapechar\u001b[0m\u001b[1;33m,\u001b[0m\u001b[1;33m\u001b[0m\u001b[0m\n\u001b[1;32m-> 3482\u001b[1;33m             \u001b[0mstorage_options\u001b[0m\u001b[1;33m=\u001b[0m\u001b[0mstorage_options\u001b[0m\u001b[1;33m,\u001b[0m\u001b[1;33m\u001b[0m\u001b[0m\n\u001b[0m\u001b[0;32m   3483\u001b[0m         )\n\u001b[0;32m   3484\u001b[0m \u001b[1;33m\u001b[0m\u001b[0m\n",
      "\u001b[1;32m~\\anaconda3\\envs\\mosaic_missionbio_20211123\\lib\\site-packages\\pandas\\io\\formats\\format.py\u001b[0m in \u001b[0;36mto_csv\u001b[1;34m(self, path_or_buf, encoding, sep, columns, index_label, mode, compression, quoting, quotechar, line_terminator, chunksize, date_format, doublequote, escapechar, errors, storage_options)\u001b[0m\n\u001b[0;32m   1103\u001b[0m             \u001b[0mformatter\u001b[0m\u001b[1;33m=\u001b[0m\u001b[0mself\u001b[0m\u001b[1;33m.\u001b[0m\u001b[0mfmt\u001b[0m\u001b[1;33m,\u001b[0m\u001b[1;33m\u001b[0m\u001b[0m\n\u001b[0;32m   1104\u001b[0m         )\n\u001b[1;32m-> 1105\u001b[1;33m         \u001b[0mcsv_formatter\u001b[0m\u001b[1;33m.\u001b[0m\u001b[0msave\u001b[0m\u001b[1;33m(\u001b[0m\u001b[1;33m)\u001b[0m\u001b[1;33m\u001b[0m\u001b[0m\n\u001b[0m\u001b[0;32m   1106\u001b[0m \u001b[1;33m\u001b[0m\u001b[0m\n\u001b[0;32m   1107\u001b[0m         \u001b[1;32mif\u001b[0m \u001b[0mcreated_buffer\u001b[0m\u001b[1;33m:\u001b[0m\u001b[1;33m\u001b[0m\u001b[0m\n",
      "\u001b[1;32m~\\anaconda3\\envs\\mosaic_missionbio_20211123\\lib\\site-packages\\pandas\\io\\formats\\csvs.py\u001b[0m in \u001b[0;36msave\u001b[1;34m(self)\u001b[0m\n\u001b[0;32m    241\u001b[0m             \u001b[0merrors\u001b[0m\u001b[1;33m=\u001b[0m\u001b[0mself\u001b[0m\u001b[1;33m.\u001b[0m\u001b[0merrors\u001b[0m\u001b[1;33m,\u001b[0m\u001b[1;33m\u001b[0m\u001b[0m\n\u001b[0;32m    242\u001b[0m             \u001b[0mcompression\u001b[0m\u001b[1;33m=\u001b[0m\u001b[0mself\u001b[0m\u001b[1;33m.\u001b[0m\u001b[0mcompression\u001b[0m\u001b[1;33m,\u001b[0m\u001b[1;33m\u001b[0m\u001b[0m\n\u001b[1;32m--> 243\u001b[1;33m             \u001b[0mstorage_options\u001b[0m\u001b[1;33m=\u001b[0m\u001b[0mself\u001b[0m\u001b[1;33m.\u001b[0m\u001b[0mstorage_options\u001b[0m\u001b[1;33m,\u001b[0m\u001b[1;33m\u001b[0m\u001b[0m\n\u001b[0m\u001b[0;32m    244\u001b[0m         ) as handles:\n\u001b[0;32m    245\u001b[0m \u001b[1;33m\u001b[0m\u001b[0m\n",
      "\u001b[1;32m~\\anaconda3\\envs\\mosaic_missionbio_20211123\\lib\\site-packages\\pandas\\io\\common.py\u001b[0m in \u001b[0;36mget_handle\u001b[1;34m(path_or_buf, mode, encoding, compression, memory_map, is_text, errors, storage_options)\u001b[0m\n\u001b[0;32m    705\u001b[0m                 \u001b[0mencoding\u001b[0m\u001b[1;33m=\u001b[0m\u001b[0mioargs\u001b[0m\u001b[1;33m.\u001b[0m\u001b[0mencoding\u001b[0m\u001b[1;33m,\u001b[0m\u001b[1;33m\u001b[0m\u001b[0m\n\u001b[0;32m    706\u001b[0m                 \u001b[0merrors\u001b[0m\u001b[1;33m=\u001b[0m\u001b[0merrors\u001b[0m\u001b[1;33m,\u001b[0m\u001b[1;33m\u001b[0m\u001b[0m\n\u001b[1;32m--> 707\u001b[1;33m                 \u001b[0mnewline\u001b[0m\u001b[1;33m=\u001b[0m\u001b[1;34m\"\"\u001b[0m\u001b[1;33m,\u001b[0m\u001b[1;33m\u001b[0m\u001b[0m\n\u001b[0m\u001b[0;32m    708\u001b[0m             )\n\u001b[0;32m    709\u001b[0m         \u001b[1;32melse\u001b[0m\u001b[1;33m:\u001b[0m\u001b[1;33m\u001b[0m\u001b[0m\n",
      "\u001b[1;31mPermissionError\u001b[0m: [Errno 13] Permission denied: 'C:/Users/andre/Alma Mater Studiorum Università di Bologna/PROJECT Single-Cell - Documenti/DFCI_Ghobrial_RUN/h5_files_stats.tsv'"
     ]
    }
   ],
   "source": [
    "\n",
    "exportdf.to_csv(\"C:/Users/andre/Alma Mater Studiorum Università di Bologna/PROJECT Single-Cell - Documenti/DFCI_Ghobrial_RUN/h5_files_stats.tsv\", \n",
    "                sep=\"\\t\", header= True, index= False  )\n",
    "\n",
    "\n",
    "# exportdf.to_excel(\"C:/Users/andre/Alma Mater Studiorum Università di Bologna/PROJECT Single-Cell - Documenti/DFCI_Ghobrial_RUN/h5_files_stats.xlsx\",\n",
    "#                 header=False, index=False)"
   ]
  }
 ],
 "metadata": {
  "kernelspec": {
   "display_name": "Python 3 (ipykernel)",
   "language": "python",
   "name": "python3"
  },
  "language_info": {
   "codemirror_mode": {
    "name": "ipython",
    "version": 3
   },
   "file_extension": ".py",
   "mimetype": "text/x-python",
   "name": "python",
   "nbconvert_exporter": "python",
   "pygments_lexer": "ipython3",
   "version": "3.7.0"
  },
  "toc": {
   "base_numbering": 1,
   "nav_menu": {},
   "number_sections": true,
   "sideBar": true,
   "skip_h1_title": false,
   "title_cell": "Table of Contents",
   "title_sidebar": "Contents",
   "toc_cell": false,
   "toc_position": {},
   "toc_section_display": true,
   "toc_window_display": false
  },
  "varInspector": {
   "cols": {
    "lenName": 16,
    "lenType": "20",
    "lenVar": 40
   },
   "kernels_config": {
    "python": {
     "delete_cmd_postfix": "",
     "delete_cmd_prefix": "del ",
     "library": "var_list.py",
     "varRefreshCmd": "print(var_dic_list())"
    },
    "r": {
     "delete_cmd_postfix": ") ",
     "delete_cmd_prefix": "rm(",
     "library": "var_list.r",
     "varRefreshCmd": "cat(var_dic_list()) "
    }
   },
   "position": {
    "height": "411.844px",
    "left": "1529px",
    "right": "20px",
    "top": "112px",
    "width": "355px"
   },
   "types_to_exclude": [
    "module",
    "function",
    "builtin_function_or_method",
    "instance",
    "_Feature"
   ],
   "window_display": true
  }
 },
 "nbformat": 4,
 "nbformat_minor": 5
}
